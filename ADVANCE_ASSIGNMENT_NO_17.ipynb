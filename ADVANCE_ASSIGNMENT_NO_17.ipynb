{
  "nbformat": 4,
  "nbformat_minor": 0,
  "metadata": {
    "colab": {
      "provenance": []
    },
    "kernelspec": {
      "name": "python3",
      "display_name": "Python 3"
    },
    "language_info": {
      "name": "python"
    }
  },
  "cells": [
    {
      "cell_type": "markdown",
      "source": [
        "**Q1. Explain the difference between greedy and non-greedy syntax with visual terms in as few words as possible. What is the bare minimum effort required to transform a greedy pattern into a non-greedy one? What characters or characters can you introduce or change?**  \n",
        "ANS - The Main difference between Greedy and Non Greedy Match Syntax is The Greedy Match will try to match as many repetitions of the quantified pattern as possible Whereas The Non Greedy Match will try to match as few repetitions of the quantified pattern as possible"
      ],
      "metadata": {
        "id": "ZXnki0jRQr6v"
      }
    },
    {
      "cell_type": "code",
      "execution_count": 1,
      "metadata": {
        "colab": {
          "base_uri": "https://localhost:8080/"
        },
        "id": "HZnmLGlYQjIZ",
        "outputId": "e1b84e4f-6adc-49b8-d5a2-fc8f2fc2353b"
      },
      "outputs": [
        {
          "output_type": "stream",
          "name": "stdout",
          "text": [
            "['vvvvvv', '']\n",
            "['', 'v', '', 'v', '', 'v', '', 'v', '', 'v', '', 'v', '']\n"
          ]
        }
      ],
      "source": [
        "import re\n",
        "print(re.findall(\"v*\", \"vvvvvv\")) # Greedy Match Synatx\n",
        "print(re.findall(\"v*?\", \"vvvvvv\")) # Non Greddy Syntax"
      ]
    },
    {
      "cell_type": "markdown",
      "source": [
        "**Q2. When exactly does greedy versus non-greedy make a difference? What if you're looking for a non-greedy match but the only one available is greedy?**  \n",
        "ANS - The Greedy Match will try to match as many repetitions of the quantified pattern as possible. The Non Greedy Match will try to match as few repetitions of the quantified pattern as possible. If only Non Greedy Match is available, we can use other filtering or pattern matching methods of regex and further identify the required pattern."
      ],
      "metadata": {
        "id": "FgZZctPhQ2ol"
      }
    },
    {
      "cell_type": "markdown",
      "source": [
        "**Q3. In a simple match of a string, which looks only for one match and does not do any replacement, is the use of a nontagged group likely to make any practical difference?**  \n",
        "ANS - In this Case The Non Tagged Group will not make any diffrence in this case."
      ],
      "metadata": {
        "id": "q4lauAuvQ7az"
      }
    },
    {
      "cell_type": "code",
      "source": [
        "import re\n",
        "phoneNumRegex = re.compile(r'\\d\\d\\d')\n",
        "num = phoneNumRegex.search('My number is 234-567-8901.')\n",
        "print(f'Phone number found -> {num.group()}') # Non Tagged group\n",
        "print(f'Phone number found -> {num.group(0)}') # Tagged Group"
      ],
      "metadata": {
        "colab": {
          "base_uri": "https://localhost:8080/"
        },
        "id": "__mQ5SJoQ0w4",
        "outputId": "8185e652-4c7d-4b59-c100-2e2a3a4529e2"
      },
      "execution_count": 2,
      "outputs": [
        {
          "output_type": "stream",
          "name": "stdout",
          "text": [
            "Phone number found -> 234\n",
            "Phone number found -> 234\n"
          ]
        }
      ]
    },
    {
      "cell_type": "markdown",
      "source": [
        "**Q4. Describe a scenario in which using a nontagged category would have a significant impact on the program's outcomes ?**  \n",
        "ANS - Here in the below Code Snippet . decimal is not tagged or captured. It will useful in scenarios where the separator of value in a string is of no use and we need to capture only the values."
      ],
      "metadata": {
        "id": "_Phxkao8RDXl"
      }
    },
    {
      "cell_type": "code",
      "source": [
        "import re\n",
        "text='135.456'\n",
        "pattern=r'(\\d+)(?:.)(\\d+)'\n",
        "regobj=re.compile(pattern)\n",
        "matobj=regobj.search(text)\n",
        "matobj.groups()"
      ],
      "metadata": {
        "colab": {
          "base_uri": "https://localhost:8080/"
        },
        "id": "eHe-VKyxRAjX",
        "outputId": "a6187fd2-0af8-4549-fc14-95996413d96e"
      },
      "execution_count": 3,
      "outputs": [
        {
          "output_type": "execute_result",
          "data": {
            "text/plain": [
              "('135', '456')"
            ]
          },
          "metadata": {},
          "execution_count": 3
        }
      ]
    },
    {
      "cell_type": "markdown",
      "source": [
        "**Q5. Unlike a normal regex pattern, a look-ahead condition does not consume the characters it examines. Describe a situation in which this could make a difference in the results of your programme ?**  \n",
        "ANS - While counting the number of multiple lines or mutiple sentence in a string the positive look ahead makes a difference, without which we wont get the correct count of lines or sentences in a string."
      ],
      "metadata": {
        "id": "NIhrTy51RJ31"
      }
    },
    {
      "cell_type": "markdown",
      "source": [
        "**Q6. In standard expressions, what is the difference between positive look-ahead and negative look-ahead ?**  \n",
        "ANS - Positive Lookahead allows to add a condition for what follows. Negative Lookahead is similar, but it looks behind. That is, it allows to match a pattern only if there’s something before it."
      ],
      "metadata": {
        "id": "fTAtt9e4RPDt"
      }
    },
    {
      "cell_type": "markdown",
      "source": [
        "**Q7. What is the benefit of referring to groups by name rather than by number in a standard expression?**  \n",
        "ANS - Referring to groups by name rather than by number in a standard expression helps to keep the code clear and easy to understand."
      ],
      "metadata": {
        "id": "WijQeTSuRTpb"
      }
    },
    {
      "cell_type": "markdown",
      "source": [
        "**Q8. Can you identify repeated items within a target string using named groups, as in \"The cow jumped over the moon\"?**  \n",
        "ANS - "
      ],
      "metadata": {
        "id": "v48TjxR4RYYB"
      }
    },
    {
      "cell_type": "code",
      "source": [],
      "metadata": {
        "id": "bx08mThfRbje"
      },
      "execution_count": null,
      "outputs": []
    },
    {
      "cell_type": "markdown",
      "source": [
        "**Q9. When parsing a string, what is at least one thing that the Scanner interface does for you that the re.findall feature does not ?**  \n",
        "ANS - re.findall() module is used to search for all occurrences that match a given pattern. In contrast, re.search() will only return the first occurrence that matches the specified pattern. re.findall() will iterate over all the lines of the file and will return all non-overlapping matches of pattern in a single step."
      ],
      "metadata": {
        "id": "qHOAYuXnRmsc"
      }
    },
    {
      "cell_type": "markdown",
      "source": [
        "**Q10. Does a scanner object have to be named scanner?**  \n",
        "ANS - Yes, It may have any name."
      ],
      "metadata": {
        "id": "VBVJgX8QRt6N"
      }
    }
  ]
}