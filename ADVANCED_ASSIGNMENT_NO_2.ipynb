{
  "nbformat": 4,
  "nbformat_minor": 0,
  "metadata": {
    "colab": {
      "name": "ADVANCED_ASSIGNMENT NO.2.ipynb",
      "provenance": [],
      "collapsed_sections": []
    },
    "kernelspec": {
      "name": "python3",
      "display_name": "Python 3"
    },
    "language_info": {
      "name": "python"
    }
  },
  "cells": [
    {
      "cell_type": "markdown",
      "source": [
        "**Q1. What is the relationship between classes and modules?**  \n",
        "ANS - **Class** -  \n",
        "1. A Python class is like an outline/blueprint/mold for creating a new object.   \n",
        "2. An object is anything that you wish to manipulate or change while working through the code.   \n",
        "3. Every time a class object is instantiated, which is when we declare a variable, a new object is initiated from scratch.  \n",
        "\n",
        "**Modules** -  \n",
        "1. Whereas in Python, Modules are simply files with the **.py** extension containing Python code that can be imported inside another Python Program.  \n",
        "2. In simple terms, we can consider a module to be the same as a code library or a file that contains a **set of functions/Classes** that you want to include in your application."
      ],
      "metadata": {
        "id": "180etrDFS8aH"
      }
    },
    {
      "cell_type": "markdown",
      "source": [
        "**2.How do you make instances and classes?**  \n",
        "ANS - For creating a class instances , we call class by it's name and pass the arguments which it's __init__ methods accepts. "
      ],
      "metadata": {
        "id": "A9kX0QtD7Edw"
      }
    },
    {
      "cell_type": "markdown",
      "source": [
        "**Q3. Where and how should be class attributes created?**  \n",
        "ANS - The class attributes are created a very first special function of our class. We can refer it as constrcutor function.  \n",
        "It is defined by **init** function."
      ],
      "metadata": {
        "id": "wEVpXCt18BZe"
      }
    },
    {
      "cell_type": "code",
      "source": [
        "class my_class():       #Defining the class  \n",
        "  def __init__(self,arg1,arg2):    #Defining the attributes as arg1 and arg2 \n",
        "    self.arg1 = arg1\n",
        "    self.arg2 = arg2           #Connecting the attributes to the self pointer"
      ],
      "metadata": {
        "id": "2HZeS0y-8_1H"
      },
      "execution_count": 2,
      "outputs": []
    },
    {
      "cell_type": "markdown",
      "source": [
        "**Q4. Where and how are instance attributes created?**  \n",
        "ANS - 1. Instances attributes are passed to the class when an object of the class is created.   \n",
        "2. Unlike class attributes, instance attributes are not shared by all objects of the classs, instead each object maintains its own copy of instance attributes at object level.  \n",
        "3. Whereas incase of class attributes all instances of class refer to a single copy. Usually instance attributes are defined within the __init__ method of class"
      ],
      "metadata": {
        "id": "XsMnlCKj9n5C"
      }
    },
    {
      "cell_type": "markdown",
      "source": [
        "**Q5. What does the term \"self\" in a Python class mean?**  \n",
        "ANS - **self** represents the instance of the class.  \n",
        "By using the **“self”** keyword we can access the attributes and methods of the class with in the class in python.   \n",
        "It binds the attributes with the given arguments."
      ],
      "metadata": {
        "id": "6uowrAWF-Rig"
      }
    },
    {
      "cell_type": "markdown",
      "source": [
        "**Q6. How does a Python class handle operator overloading?**  \n",
        "ANS - Python Classes handle operator overloading by using special methods called Magic methods. these special methods usually begin and end with  **__** **(double underscore)**  \n",
        "Magic Operators are basic arithmatic operators"
      ],
      "metadata": {
        "id": "Q9kz0YwR-o7U"
      }
    },
    {
      "cell_type": "markdown",
      "source": [
        "**Q7. When do you consider allowing operator overloading of your classes?**  \n",
        "ANS - When we want to have different meaning for the same operator accroding to the context we use operator overloading."
      ],
      "metadata": {
        "id": "3WcysHnoAj_3"
      }
    },
    {
      "cell_type": "markdown",
      "source": [
        "**Q8. What is the most popular form of operator overloading?**  \n",
        "ANS - Generally addition operator is use mostly for operator overloading by using magic method add."
      ],
      "metadata": {
        "id": "LGXHpP84BcBi"
      }
    },
    {
      "cell_type": "markdown",
      "source": [
        "**Q9. What are the two most important concepts to grasp in order to comprehend Python OOP code?**  \n",
        "ANS - Two key concept required to understand python OOP code are: **inheritance** and **polymorphism**\n",
        "\n",
        "**Inheritence**: It means inheriting the properties and behaviour of the parent class to the child class.. We do not then required to initialse the data again and again once we inherit the data from the parent class.\n",
        "\n",
        "**Polymorphism**: It means many form. Under the class a function can take many form with the same name. It only differe from others by its parameter or the way it is being operate. Function overloading and overriding comes under this concept."
      ],
      "metadata": {
        "id": "zNZt5JFtBhG8"
      }
    }
  ]
}