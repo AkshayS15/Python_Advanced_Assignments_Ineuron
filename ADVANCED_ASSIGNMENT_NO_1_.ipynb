{
  "nbformat": 4,
  "nbformat_minor": 0,
  "metadata": {
    "colab": {
      "name": "ADVANCED ASSIGNMENT NO.1 .ipynb",
      "provenance": [],
      "collapsed_sections": []
    },
    "kernelspec": {
      "name": "python3",
      "display_name": "Python 3"
    },
    "language_info": {
      "name": "python"
    }
  },
  "cells": [
    {
      "cell_type": "markdown",
      "source": [
        "**1.What is the purpose of python's OOP?**  \n",
        "ANS - 1.Object-Oriented Programming makes the program easy to understand as well as efficient.\n",
        "2. Since the class is sharable, the code can be reused  \n",
        "3. Data is safe and secure with data abstraction.  \n",
        "4. Polymorphism allows the same interface for different objects, so programmers can write efficient code."
      ],
      "metadata": {
        "id": "898KzU9n41GO"
      }
    },
    {
      "cell_type": "markdown",
      "source": [
        "**2.Where does an inheritance search look for an attribute?**  \n",
        "ANS - Python searches for an attribute in an upward tree of attributes. it first searches for the attribute in its instance and then looks in the class it is generated from, to all super classes listed in its class header."
      ],
      "metadata": {
        "id": "sudMc1Vo5c_R"
      }
    },
    {
      "cell_type": "markdown",
      "source": [
        "**Q3. How do you distinguish between a class object and an instance object?**  \n",
        "ANS - 1. Class is a template for creating objects whereas object is an instance of class.\n",
        "2. Seperate memory is allocated for each object whenever an object is created. but for a class this doesnot happens.\n",
        "3. A Class is created once. Many objects are created using a class.\n",
        "4. As Classes have no allocated memory. they can't be manipulated. but objects can be manipulated"
      ],
      "metadata": {
        "id": "loiDIE9p6Jwi"
      }
    },
    {
      "cell_type": "markdown",
      "source": [
        "**Q4. What makes the first argument in a class’s method function special?**  \n",
        "ANS - The '**self**' is the mostly used first argument function. Basically we can use any word. But 'self' is recieved as the first argument of the class method function. The keyword self represents the instance of a class and binds the attributes with the given arguments."
      ],
      "metadata": {
        "id": "FR8IusXh6gfW"
      }
    },
    {
      "cell_type": "markdown",
      "source": [
        "**Q5. What is the purpose of the init method?**  \n",
        "ANS - The purpose of the __init__ method is to initialize the instance of a class when it is created.  \n",
        "__init__ is a reseved method in python classes.  \n",
        "This method called when an object is created from the class and it allow the class to initialize the attributes of a class"
      ],
      "metadata": {
        "id": "b8xF6GHz7Bau"
      }
    },
    {
      "cell_type": "markdown",
      "source": [
        "**6.What is the process for creating a class instance?**  \n",
        "ANS - To create a class instance, we need to call the class by its name and pass the arguments to the class, which its init method accepts."
      ],
      "metadata": {
        "id": "IdgntaDV7ZrQ"
      }
    },
    {
      "cell_type": "markdown",
      "source": [
        "**Q7. What is the process for creating a class?**  \n",
        "ANS - 'class' keyword is used to created a class in python. The syntax to create a class in python is **class classname:**"
      ],
      "metadata": {
        "id": "gxDx9xaN7pag"
      }
    },
    {
      "cell_type": "markdown",
      "source": [
        "**Q8. How would you define the superclasses of a class?**  \n",
        "ANS - Superclass/Parent class is given as a arugment to the child class"
      ],
      "metadata": {
        "id": "mP-Ol10Y7xA9"
      }
    }
  ]
}