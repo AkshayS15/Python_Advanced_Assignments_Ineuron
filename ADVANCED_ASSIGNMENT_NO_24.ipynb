{
  "nbformat": 4,
  "nbformat_minor": 0,
  "metadata": {
    "colab": {
      "name": "ADVANCED ASSIGNMENT NO.24.ipynb",
      "provenance": [],
      "collapsed_sections": []
    },
    "kernelspec": {
      "name": "python3",
      "display_name": "Python 3"
    },
    "language_info": {
      "name": "python"
    }
  },
  "cells": [
    {
      "cell_type": "markdown",
      "source": [
        "**Q1. Is it permissible to use several import statements to import the same module? What would the goal be? Can you think of a situation where it would be beneficial ?**  \n",
        "ANS - Yes, it is permissible to use several import statements to import the same module. It is used in case when we have to import multiple functions from same module."
      ],
      "metadata": {
        "id": "7ySvdAHTrX-a"
      }
    },
    {
      "cell_type": "markdown",
      "source": [
        "**Q2. What are some of a module's characteristics? (Name at least one.)**  \n",
        "ANS - The following are some of a module's characteristics:\n",
        "\n",
        "- __ name __ : It returns the name of the module\n",
        "- __ doc __ : It denotes the documentation string line written in a module code.\n",
        "- __ file __ : It holds the name and path of the module file from which it is loaded\n",
        "- __ dict __ : It return a dictionary object of module attributes, functions and other definitions and their respective values"
      ],
      "metadata": {
        "id": "-4GZVRqfrYCF"
      }
    },
    {
      "cell_type": "markdown",
      "source": [
        "**Q3. Circular importing, such as when two modules import each other, can lead to dependencies and bugs that aren't visible. How can you go about creating a program that avoids mutual importing?**  \n",
        "ANS - Circular importing means importing the two modules in each other. If suppose we are wokring in **MOD1.py** file and it is importing some function say F2() from some other module say **MOD2.PY** file or we can do vice-versa. What will happen is: This will give an **import error**.\n",
        "\n",
        "This is because when we import F2() function from module **MOD2.py**, then this will execute **MOD2.py** file. And in **MOD2.py** file there is an another statement of importing **MOD1.py** module.\n",
        "\n",
        "This will result in endless loop. To avoid this error just do one thingWe can use if __ name __ == '__ main __'\n",
        "\n",
        "In the function, you can't directly refer to the function in the program. The addition of this sentence avoids the endless loop of the program ."
      ],
      "metadata": {
        "id": "IFRiIhmQrYF5"
      }
    },
    {
      "cell_type": "markdown",
      "source": [
        "**Q4. Why is __all__ in Python ?**  \n",
        "ANS - It provides list of all modules present in a library."
      ],
      "metadata": {
        "id": "4qcZjf_prYJc"
      }
    },
    {
      "cell_type": "markdown",
      "source": [
        "**Q5. In what situation is it useful to refer to the ___ name __ attribute or the string __ main __ ?**  \n",
        "ANS - During the time of execution of the code if we want to refer the module in which we are working on then we uses name attribute. In that case it will return the module in which we are working on. Suppose if that moudle is being imported from some other module then name will have the name of that moudle from where the current module has been imported. The current module in which we are working is refer to the string __ main __"
      ],
      "metadata": {
        "id": "8ThbR7-drYRY"
      }
    }
  ]
}