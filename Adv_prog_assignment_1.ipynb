{
  "nbformat": 4,
  "nbformat_minor": 0,
  "metadata": {
    "colab": {
      "provenance": []
    },
    "kernelspec": {
      "name": "python3",
      "display_name": "Python 3"
    },
    "language_info": {
      "name": "python"
    }
  },
  "cells": [
    {
      "cell_type": "markdown",
      "source": [
        "**1. Write a function that takes a list of lists and returns the value of all of the symbols in it, where each symbol adds or takes something from the total score.   \n",
        "Symbol values   # = 5  \n",
        "O = 3  \n",
        "X = 1  \n",
        "! = -1  \n",
        "!! = -3  \n",
        "!!! = -5    \n",
        "A list of lists containing 2 #s, a O, and a !!! would equal (0 + 5 + 5 + 3 - 5) 8.  \n",
        "If the final score is negative, return 0 (e.g. 3 #s, 3 !!s, 2 !!!s and a X would be (0 + 5 + 5 + 5 - 3 - 3 - 3 - 5 - 5 + 1) -3, so return 0.**"
      ],
      "metadata": {
        "id": "ZUYoJrEVtNYL"
      }
    },
    {
      "cell_type": "code",
      "execution_count": 16,
      "metadata": {
        "id": "kq-20t20r-PC"
      },
      "outputs": [],
      "source": [
        "def check_score(l):\n",
        "  sum = 0\n",
        "  l1 = []\n",
        "  sym_dict = {'#':5,'O':3,'X':1,'!':-1,'!!':-3,'!!!':-5}\n",
        "\n",
        "  for i in l :\n",
        "    for j in i :\n",
        "      if j in sym_dict :\n",
        "        l1.append(sym_dict[j])\n",
        "\n",
        "  for num in l1 :\n",
        "    sum+=num\n",
        "  if sum < 0 :\n",
        "    print(0)\n",
        "  else : \n",
        "    print(sum)"
      ]
    },
    {
      "cell_type": "code",
      "source": [
        "check_score([\n",
        "  [\"#\", \"!\"],\n",
        "  [\"!!\", \"X\"]\n",
        "]) \n"
      ],
      "metadata": {
        "colab": {
          "base_uri": "https://localhost:8080/"
        },
        "id": "YU0aV7C_uYaS",
        "outputId": "ad5bf1cb-8b54-4c2e-b17e-e37b38092435"
      },
      "execution_count": 17,
      "outputs": [
        {
          "output_type": "stream",
          "name": "stdout",
          "text": [
            "2\n"
          ]
        }
      ]
    },
    {
      "cell_type": "code",
      "source": [
        "check_score([\n",
        "  [\"!!!\", \"O\", \"!\"],\n",
        "  [\"X\", \"#\", \"!!!\"],\n",
        "  [\"!!\", \"X\", \"O\"]\n",
        "]) \n"
      ],
      "metadata": {
        "colab": {
          "base_uri": "https://localhost:8080/"
        },
        "id": "PAT1x2ZVuhPh",
        "outputId": "c6931f86-b1bc-421d-ec33-19b67b626a14"
      },
      "execution_count": 18,
      "outputs": [
        {
          "output_type": "stream",
          "name": "stdout",
          "text": [
            "0\n"
          ]
        }
      ]
    },
    {
      "cell_type": "markdown",
      "source": [
        "**2. Create a function that takes a variable number of arguments, each argument representing the number of items in a group, and returns the number of permutations (combinations) of items that you could get by taking one item from each group**"
      ],
      "metadata": {
        "id": "R8yBC3u-vDaO"
      }
    },
    {
      "cell_type": "code",
      "source": [
        "def combinations(*args):\n",
        "  prod = 1\n",
        "  for i in args :\n",
        "    prod *= i\n",
        "  return prod"
      ],
      "metadata": {
        "id": "hwRS4S_But7r"
      },
      "execution_count": 21,
      "outputs": []
    },
    {
      "cell_type": "code",
      "source": [
        "combinations(2, 3) "
      ],
      "metadata": {
        "colab": {
          "base_uri": "https://localhost:8080/"
        },
        "id": "uAL0tcxavfxi",
        "outputId": "fbd1ffd7-4522-4cfa-aa65-5a15daa3d987"
      },
      "execution_count": 22,
      "outputs": [
        {
          "output_type": "execute_result",
          "data": {
            "text/plain": [
              "6"
            ]
          },
          "metadata": {},
          "execution_count": 22
        }
      ]
    },
    {
      "cell_type": "code",
      "source": [
        "combinations(3, 7, 4) "
      ],
      "metadata": {
        "colab": {
          "base_uri": "https://localhost:8080/"
        },
        "id": "AbnUiijSvid1",
        "outputId": "18f10971-b7cf-4826-830f-72ba00880e1c"
      },
      "execution_count": 23,
      "outputs": [
        {
          "output_type": "execute_result",
          "data": {
            "text/plain": [
              "84"
            ]
          },
          "metadata": {},
          "execution_count": 23
        }
      ]
    },
    {
      "cell_type": "code",
      "source": [
        "combinations(2, 3, 4, 5) "
      ],
      "metadata": {
        "colab": {
          "base_uri": "https://localhost:8080/"
        },
        "id": "RKwIomAnvoMJ",
        "outputId": "3b17b128-4ae5-4895-824a-7df09993f649"
      },
      "execution_count": 24,
      "outputs": [
        {
          "output_type": "execute_result",
          "data": {
            "text/plain": [
              "120"
            ]
          },
          "metadata": {},
          "execution_count": 24
        }
      ]
    },
    {
      "cell_type": "markdown",
      "source": [
        "**3. Create a function that takes a string as an argument and returns the Morse code equivalent.  \n",
        "Examples  \n",
        "encode_morse(\"EDABBIT CHALLENGE\") ➞ \". -.. .- -... -... .. -   -.-. .... .- .-.. .-.. . -. --. .\"  \n",
        "encode_morse(\"HELP ME !\") ➞ \".... . .-.. .--.   -- .   -.-.--\"  \n",
        "This dictionary can be used for coding:  \n",
        "char_to_dots = {\n",
        "  'A': '.-', 'B': '-...', 'C': '-.-.', 'D': '-..', 'E': '.', 'F': '..-.',\n",
        "  'G': '--.', 'H': '....', 'I': '..', 'J': '.---', 'K': '-.-', 'L': '.-..',\n",
        "  'M': '--', 'N': '-.', 'O': '---', 'P': '.--.', 'Q': '--.-', 'R': '.-.',\n",
        "  'S': '...', 'T': '-', 'U': '..-', 'V': '...-', 'W': '.--', 'X': '-..-',\n",
        "  'Y': '-.--', 'Z': '--..', ' ': ' ', '0': '-----',\n",
        "  '1': '.----', '2': '..---', '3': '...--', '4': '....-', '5': '.....',\n",
        "  '6': '-....', '7': '--...', '8': '---..', '9': '----.',\n",
        "  '&': '.-...', \"'\": '.----.', '@': '.--.-.', ')': '-.--.-', '(': '-.--.',\n",
        "  ':': '---...', ',': '--..--', '=': '-...-', '!': '-.-.--', '.': '.-.-.-',\n",
        "  '-': '-....-', '+': '.-.-.', '\"': '.-..-.', '?': '..--..', '/': '-..-.'\n",
        "}**\n"
      ],
      "metadata": {
        "id": "HVFoYHsQvrdh"
      }
    },
    {
      "cell_type": "code",
      "source": [
        "def encode_morse(s):\n",
        "  char_to_dots = { 'A': '.-', 'B': '-...', 'C': '-.-.', 'D': '-..', 'E': '.', 'F': '..-.',\n",
        "                  'G': '--.', 'H': '....', 'I': '..', 'J': '.---', 'K': '-.-', 'L': '.-..', \n",
        "                  'M': '--', 'N': '-.', 'O': '---', 'P': '.--.', 'Q': '--.-', 'R': '.-.', 'S': '...', \n",
        "                  'T': '-', 'U': '..-', 'V': '...-', 'W': '.--', 'X': '-..-', 'Y': '-.--', 'Z': '--..',\n",
        "                  ' ': ' ', '0': '-----', '1': '.----', '2': '..---', '3': '...--', '4': '....-', \n",
        "                  '5': '.....', '6': '-....', '7': '--...', '8': '---..', '9': '----.', \n",
        "                  '&': '.-...', \"'\": '.----.', '@': '.--.-.', ')': '-.--.-', \n",
        "                  '(': '-.--.', ':': '---...', ',': '--..--', '=': '-...-', '!': '-.-.--', '.': '.-.-.-', '-': '-....-', \n",
        "                  '+': '.-.-.', '\"': '.-..-.', '?': '..--..', '/': '-..-.' }\n",
        "  l = []\n",
        "  for i in s :\n",
        "    for j in char_to_dots.keys():\n",
        "      if i == j :\n",
        "        x = char_to_dots.get(i)\n",
        "        l.append(x)\n",
        "  \n",
        "  a = ''.join(l)\n",
        "  return a"
      ],
      "metadata": {
        "id": "BLcBJJL8vqOb"
      },
      "execution_count": 25,
      "outputs": []
    },
    {
      "cell_type": "code",
      "source": [
        "encode_morse(\"EDABBIT CHALLENGE\") "
      ],
      "metadata": {
        "colab": {
          "base_uri": "https://localhost:8080/",
          "height": 36
        },
        "id": "VWlHqlMExKya",
        "outputId": "83640005-987f-46e5-aea6-8bc146b859e9"
      },
      "execution_count": 27,
      "outputs": [
        {
          "output_type": "execute_result",
          "data": {
            "text/plain": [
              "'.-...--...-.....- -.-......-.-...-...-.--..'"
            ],
            "application/vnd.google.colaboratory.intrinsic+json": {
              "type": "string"
            }
          },
          "metadata": {},
          "execution_count": 27
        }
      ]
    },
    {
      "cell_type": "code",
      "source": [
        "encode_morse(\"HELP ME !\") "
      ],
      "metadata": {
        "colab": {
          "base_uri": "https://localhost:8080/",
          "height": 36
        },
        "id": "Otar5cTJxOij",
        "outputId": "e4ac4918-b4a3-4faa-9531-1034735431e9"
      },
      "execution_count": 28,
      "outputs": [
        {
          "output_type": "execute_result",
          "data": {
            "text/plain": [
              "'......-...--. --. -.-.--'"
            ],
            "application/vnd.google.colaboratory.intrinsic+json": {
              "type": "string"
            }
          },
          "metadata": {},
          "execution_count": 28
        }
      ]
    },
    {
      "cell_type": "markdown",
      "source": [
        "**4.  Write a function that takes a number and returns True if it's a prime; False otherwise. The number can be 2^64-1 (2 to the power of 63, not XOR). With the standard technique it would be O(2^64-1), which is much too large for the 10 second time limit.**"
      ],
      "metadata": {
        "id": "L3a8aPfwyWaO"
      }
    },
    {
      "cell_type": "code",
      "source": [
        "def prime(a):\n",
        "\n",
        "    #a = 5151512515524\n",
        "    l1 = []\n",
        "    for i in range(1, a+1):\n",
        "        if (a%i) == 0:\n",
        "            l1.append(i)\n",
        "            if len(l1)>4:\n",
        "                break\n",
        "    if len(l1)>2:\n",
        "        print(False)\n",
        "    else:\n",
        "        print(True) "
      ],
      "metadata": {
        "id": "Yz3FpomyxS0Y"
      },
      "execution_count": 29,
      "outputs": []
    },
    {
      "cell_type": "code",
      "source": [
        "prime(7) "
      ],
      "metadata": {
        "colab": {
          "base_uri": "https://localhost:8080/"
        },
        "id": "oj1XsjHgyd7V",
        "outputId": "426753b9-fc2b-4b4b-dc97-6553240d043b"
      },
      "execution_count": 30,
      "outputs": [
        {
          "output_type": "stream",
          "name": "stdout",
          "text": [
            "True\n"
          ]
        }
      ]
    },
    {
      "cell_type": "code",
      "source": [
        "prime(56963) "
      ],
      "metadata": {
        "colab": {
          "base_uri": "https://localhost:8080/"
        },
        "id": "kaW0NWHCygVl",
        "outputId": "0a4b8416-912b-46b4-a541-4f8345e578bd"
      },
      "execution_count": 32,
      "outputs": [
        {
          "output_type": "stream",
          "name": "stdout",
          "text": [
            "True\n"
          ]
        }
      ]
    },
    {
      "cell_type": "code",
      "source": [
        "prime(5151512515524) "
      ],
      "metadata": {
        "colab": {
          "base_uri": "https://localhost:8080/"
        },
        "id": "AbBdEurfyiLq",
        "outputId": "dbb8fec7-1590-43cd-f0d5-a7d74ff7a1db"
      },
      "execution_count": 33,
      "outputs": [
        {
          "output_type": "stream",
          "name": "stdout",
          "text": [
            "False\n"
          ]
        }
      ]
    },
    {
      "cell_type": "markdown",
      "source": [
        " 5.  Create a function that converts a word to a bitstring and then to a boolean list based on the following criteria:      \n",
        "1. Locate the position of the letter in the English alphabet (from 1 to 26).  \n",
        "2. Odd positions will be represented as 1 and 0 otherwise.  \n",
        "3. Convert the represented positions to boolean values, 1 for True and 0 for \n",
        "False.  \n",
        "4. Store the conversions into an array. **bold text**"
      ],
      "metadata": {
        "id": "T0RrbKUKynH-"
      }
    },
    {
      "cell_type": "code",
      "source": [
        "def to_bool_list(a):\n",
        "\n",
        "  alph = { \"a\":1,'b':0,'c':1,\"d\":0,\"e\":1,\"f\":0,\"g\":1,\"h\":0,\"i\":1,\"j\":0,\"k\":1,\"l\":0,'m':1,\"n\":0,\n",
        "                  \"o\":1,\"p\":0,\"q\":1,\"r\":0,\"s\":1,\"t\":0,\"u\":1,\"v\":0,\"w\":1,\"x\":0,\"y\":1,\"z\":0 }\n",
        "\n",
        "  l = []\n",
        "  for i in a :\n",
        "    for j in alph.keys():\n",
        "      if i ==j :\n",
        "        b = alph.get(i)\n",
        "        l.append(b)\n",
        "\n",
        "  l1  = []\n",
        "  for lett in l:\n",
        "    if lett == 1 :\n",
        "      l1.append(True)\n",
        "    else :\n",
        "      l1.append(False)\n",
        "  print(l1)"
      ],
      "metadata": {
        "id": "Xin5fgyRymSl"
      },
      "execution_count": 34,
      "outputs": []
    },
    {
      "cell_type": "code",
      "source": [
        "to_bool_list(\"loves\") "
      ],
      "metadata": {
        "colab": {
          "base_uri": "https://localhost:8080/"
        },
        "id": "mItGVK-42P7l",
        "outputId": "a25a9c5c-3b48-40a4-e056-9db3e34ba948"
      },
      "execution_count": 35,
      "outputs": [
        {
          "output_type": "stream",
          "name": "stdout",
          "text": [
            "[False, True, False, True, True]\n"
          ]
        }
      ]
    },
    {
      "cell_type": "code",
      "source": [
        "to_bool_list(\"tesh\") "
      ],
      "metadata": {
        "colab": {
          "base_uri": "https://localhost:8080/"
        },
        "id": "ogh1KPZH2WEH",
        "outputId": "63a09f50-410d-44dd-bca1-9b64386c2271"
      },
      "execution_count": 37,
      "outputs": [
        {
          "output_type": "stream",
          "name": "stdout",
          "text": [
            "[False, True, True, False]\n"
          ]
        }
      ]
    }
  ]
}