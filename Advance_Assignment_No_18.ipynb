{
  "nbformat": 4,
  "nbformat_minor": 0,
  "metadata": {
    "colab": {
      "name": "Advance_Assignment_No.18.ipynb",
      "provenance": []
    },
    "kernelspec": {
      "name": "python3",
      "display_name": "Python 3"
    },
    "language_info": {
      "name": "python"
    }
  },
  "cells": [
    {
      "cell_type": "markdown",
      "source": [
        "**Q1. Describe the differences between text and binary files in a single paragraph.**  \n",
        "ANS - Text File:\n",
        "\n",
        "Bits represent of every character. it is likely to Less prone to get corrupt as changes reflect as soon as the file is opened and can easily be undone. Text file Can store only plain text in a file. It is Widely used file format and can be opened using any simple text editor. Mostly .txt and .rtf are used as extensions to text files. It is readebel to us or humans.\n",
        "\n",
        "Binary File: \n",
        "\n",
        "It is Bits represent a custom data. It Can easily get corrupted, Even a single bit change may corrupt the file. Binary file Can store different types of data (image, audio, text) in a single file. Developed especially for an application and may not be understood by other applications. Can have any application defined extension. "
      ],
      "metadata": {
        "id": "BcwF_p3OLVuO"
      }
    },
    {
      "cell_type": "markdown",
      "source": [
        "**Q2. What are some scenarios where using text files will be the better option? When would you like to use binary files instead of text files?**  \n",
        "ANS - Text files are less prone to get corrupted as any undesired change may just show up once the file is opened and then can easily be removed. Whereas Use binary files instead of text files for image data."
      ],
      "metadata": {
        "id": "5dp1ZzklLVw9"
      }
    },
    {
      "cell_type": "markdown",
      "source": [
        "**Q3. What are some of the issues with using binary operations to read and write a Python integer directly to disc?**  \n",
        "ANS - While reading,read method returns a sequence of bytes as a string. With using binary operaions i.e. using bitwise operator the integers are first converted into binary and then operations are performed on bit by bit. This is a very lengthy task from usual steps. More over it is not possible for a reader to read the integers in binary format."
      ],
      "metadata": {
        "id": "Uhnh3DToLVzx"
      }
    },
    {
      "cell_type": "markdown",
      "source": [
        "**Q4. Describe a benefit of using the with keyword instead of explicitly opening a file ?**  \n",
        "ANS - When a file is opened using the with keyword, if some exceptions occur after opening a file, or at the end of the file it automatically does the closing of the file. There by not leaving an file in open mode and there would no need to explicitly close a file."
      ],
      "metadata": {
        "id": "SXFqa-GULV2m"
      }
    },
    {
      "cell_type": "markdown",
      "source": [
        "**Q5. Does Python have the trailing newline while reading a line of text? Does Python append a newline when you write a line of text?**  \n",
        "ANS - Yes, Python have the trailing newline while reading a line of text. When we write a newline has to be provided in python excpicitly"
      ],
      "metadata": {
        "id": "5FJ82uaWLV53"
      }
    },
    {
      "cell_type": "markdown",
      "source": [
        "**Q6. What file operations enable for random-access operation?**  \n",
        "ANS - RandomAccess File class is used for reading and writing to random access file. read and write file handling operation enable random access operations. With these operations, random access file allows you to read and write a small chunk of data at any position in the file, using a file pointer.\n",
        "\n",
        "Following are some of the file operations:\n",
        "\n",
        "-close(): It closes this random access file stream and releases any system resources associated with the stream.  \n",
        "-write(): It writes the specifed byte to this file  \n",
        "-read(): It reads a byte of data from this file.  \n",
        "-length(): It returns the length of this file  \n",
        "-seek(long pos): moves the file pointer to a specified position in the file.    \n",
        "The offset is measured in bytes from the * beginning of the file. At this position, the next read or write occurs."
      ],
      "metadata": {
        "id": "sWUtW40xLV9O"
      }
    },
    {
      "cell_type": "markdown",
      "source": [
        "**Q7. When do you think you'll use the struct package the most?**  \n",
        "ANS - The struct package is mostly used while converting a common python types into C language types."
      ],
      "metadata": {
        "id": "0SIl_OFHLWAy"
      }
    },
    {
      "cell_type": "markdown",
      "source": [
        "**Q8. When is pickling the best option?**  \n",
        "ANS - pickling is storing format of some data in the binary form to further functionality or operation of application. The data gets converted into binary format by suing pickle module. It best when we are creating some application like machine learning model and then we need save it and later stage we may need to load it for deployment."
      ],
      "metadata": {
        "id": "0WvUYDo2LWFj"
      }
    },
    {
      "cell_type": "markdown",
      "source": [
        "**Q9. When will it be best to use the shelve package?**  \n",
        "ANS - When we need to store the data in constant/continuos manner such that we do not require the relational data base, then we use shelve package. The shelve object defined in this module is dictionary-like object which is persistently stored in a disk file. This creates a file similar to dbm database. Only string data type can be used as key in this special dictionary object."
      ],
      "metadata": {
        "id": "s2ZNFy8SLWMH"
      }
    },
    {
      "cell_type": "markdown",
      "source": [
        "**Q10. What is a special restriction when using the shelve package, as opposed to using other data dictionaries?**  \n",
        "ANS - Only string data type can be used as key in this special dictionary object, whereas any picklable Python object can be used as value."
      ],
      "metadata": {
        "id": "XioHnHrvLWR_"
      }
    }
  ]
}