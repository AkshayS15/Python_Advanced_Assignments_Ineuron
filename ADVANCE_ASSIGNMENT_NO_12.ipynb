{
  "nbformat": 4,
  "nbformat_minor": 0,
  "metadata": {
    "colab": {
      "provenance": []
    },
    "kernelspec": {
      "name": "python3",
      "display_name": "Python 3"
    },
    "language_info": {
      "name": "python"
    }
  },
  "cells": [
    {
      "cell_type": "markdown",
      "source": [
        "**1. Does assigning a value to a string's indexed character violate Python's string immutability?**  \n",
        "ANS - String is an immutable. So we can't do any updation or deletion with the string items through indexing"
      ],
      "metadata": {
        "id": "Wd1qlaCoeZcS"
      }
    },
    {
      "cell_type": "code",
      "execution_count": 1,
      "metadata": {
        "colab": {
          "base_uri": "https://localhost:8080/",
          "height": 200
        },
        "id": "1FhnQdioeBVn",
        "outputId": "a71f2748-304a-4c88-d211-b6311d17cc00"
      },
      "outputs": [
        {
          "output_type": "error",
          "ename": "TypeError",
          "evalue": "ignored",
          "traceback": [
            "\u001b[0;31m---------------------------------------------------------------------------\u001b[0m",
            "\u001b[0;31mTypeError\u001b[0m                                 Traceback (most recent call last)",
            "\u001b[0;32m<ipython-input-1-d9f83a9e271c>\u001b[0m in \u001b[0;36m<module>\u001b[0;34m\u001b[0m\n\u001b[1;32m      1\u001b[0m \u001b[0ms\u001b[0m\u001b[0;34m=\u001b[0m\u001b[0;34m'akshay'\u001b[0m\u001b[0;34m\u001b[0m\u001b[0;34m\u001b[0m\u001b[0m\n\u001b[0;32m----> 2\u001b[0;31m \u001b[0ms\u001b[0m\u001b[0;34m[\u001b[0m\u001b[0;36m2\u001b[0m\u001b[0;34m]\u001b[0m\u001b[0;34m=\u001b[0m\u001b[0;34m't'\u001b[0m\u001b[0;34m\u001b[0m\u001b[0;34m\u001b[0m\u001b[0m\n\u001b[0m\u001b[1;32m      3\u001b[0m \u001b[0mprint\u001b[0m\u001b[0;34m(\u001b[0m\u001b[0ms\u001b[0m\u001b[0;34m)\u001b[0m\u001b[0;34m\u001b[0m\u001b[0;34m\u001b[0m\u001b[0m\n",
            "\u001b[0;31mTypeError\u001b[0m: 'str' object does not support item assignment"
          ]
        }
      ],
      "source": [
        "s='akshay'\n",
        "s[2]='t'\n",
        "print(s)"
      ]
    },
    {
      "cell_type": "markdown",
      "source": [
        "**\n",
        "2. Does string concatenation, using the += operator, violate Python’s immutability for strings? Why or why not?**  \n",
        "ANS - No it doesnot violate it because string class is having an inbuilt method which is add () which takes strings and concatenate them."
      ],
      "metadata": {
        "id": "d25WqoqleoOF"
      }
    },
    {
      "cell_type": "code",
      "source": [
        "s = 'Akshay'\n",
        "s = s + ' Salve'\n",
        "s  #unsing += oprator"
      ],
      "metadata": {
        "colab": {
          "base_uri": "https://localhost:8080/",
          "height": 36
        },
        "id": "oQn45HERelMd",
        "outputId": "9f39a36d-a8c9-4db5-87cc-58ec62b626de"
      },
      "execution_count": 2,
      "outputs": [
        {
          "output_type": "execute_result",
          "data": {
            "text/plain": [
              "'Akshay Salve'"
            ],
            "application/vnd.google.colaboratory.intrinsic+json": {
              "type": "string"
            }
          },
          "metadata": {},
          "execution_count": 2
        }
      ]
    },
    {
      "cell_type": "markdown",
      "source": [
        "**3. In Python, how many different ways are there to index a character?**  \n",
        "ANS - There are various ways in pytho to get some item at some index position.\n",
        "\n",
        "1) By simply using the indexing and slicing method inside square bracket. Eg: item[1] or item[1:4] or item[3::2], etc\n",
        "\n",
        "2) By using list index method. list.index(position). In this way one can get the item at some index position.\n",
        "\n",
        "3) Using built in method like getitem () and index . We can use this inside the class"
      ],
      "metadata": {
        "id": "VG6gKVL-ezlS"
      }
    },
    {
      "cell_type": "markdown",
      "source": [
        "**4. What is the relationship between indexing and slicing?**  \n",
        "ANS - Indexing: It is a technique used to get the item of that particuar index position or in cas eof mutable object we can also update the value or add the new value by just giving the index position and assignment operator.\n",
        "\n",
        "Slicing: It is use when we wan to extract some range of a item from some object."
      ],
      "metadata": {
        "id": "lUwc93bje62n"
      }
    },
    {
      "cell_type": "code",
      "source": [
        "#Example\n",
        "\n",
        "l = [11,22,33,44,55,66,77,88]\n",
        "\n",
        "indexing=l[5] #getting that item at position 5\n",
        "print(f'Indexing: {indexing}')\n",
        "\n",
        "slicing=l[1:5]  #getting items from position 1 till 4\n",
        "print(f'Slicing: {slicing}')\n",
        "Indexing: 66\n",
        "Slicing: [22, 33, 44, 55]"
      ],
      "metadata": {
        "colab": {
          "base_uri": "https://localhost:8080/"
        },
        "id": "xr0i79s-exT1",
        "outputId": "a040fbc4-05b8-4329-acd7-d20486d37895"
      },
      "execution_count": 3,
      "outputs": [
        {
          "output_type": "stream",
          "name": "stdout",
          "text": [
            "Indexing: 66\n",
            "Slicing: [22, 33, 44, 55]\n"
          ]
        }
      ]
    },
    {
      "cell_type": "code",
      "source": [
        "print(type(indexing))\n",
        "print(type('.'))"
      ],
      "metadata": {
        "colab": {
          "base_uri": "https://localhost:8080/"
        },
        "id": "6Q_xFVJjfBjZ",
        "outputId": "bda7f411-8e33-4b4d-e14d-3d9b2b5636e4"
      },
      "execution_count": 4,
      "outputs": [
        {
          "output_type": "stream",
          "name": "stdout",
          "text": [
            "<class 'int'>\n",
            "<class 'str'>\n"
          ]
        }
      ]
    },
    {
      "cell_type": "markdown",
      "source": [
        "**5. What is the exact data type of an indexed character? What is the data type of a substring produced from slicing?**  \n",
        "ANS - \n",
        "The indexed character’s data type will be the main character’s data type means the indexed element is getting from that iterable object will be the same data type.\n",
        "\n",
        "E.g. if we get a value from a string object by indexed the indexed element will be string data type.\n",
        "\n",
        "The data form of the slicing-generated substring is the same as it was the original string."
      ],
      "metadata": {
        "id": "muD12S80fKYV"
      }
    },
    {
      "cell_type": "markdown",
      "source": [
        "**6. What is the relationship between string and character \"types\" in Python?**  \n",
        "ANS - Character refers to a single letter, number, space, punctuation mark or a symbol. Its data type is actually a CHAR which stores character data in a fixed-length field.\n",
        "\n",
        "While String is a sequence of characters. A group of different different character compose a string. We enclosed it by ' ' Strings are arrays of bytes representing Unicode characters. Its type is string"
      ],
      "metadata": {
        "id": "t4Gn8Vh9fO6C"
      }
    },
    {
      "cell_type": "markdown",
      "source": [
        "**7. Identify at least two operators and one method that allow you to combine one or more smaller strings to create a larger string.?**  \n",
        "ANS - In this case concatenation and a kind of multiple times of string comes into action. Concatenation needed + operator while multiple time needed '*' operator.\n",
        "\n",
        "In case of methods there are a method which do the same:\n",
        "\n",
        "add and mul"
      ],
      "metadata": {
        "id": "mmEacGYRfX41"
      }
    },
    {
      "cell_type": "code",
      "source": [
        "print('akshay'+'salve')\n",
        "print('akshay '*2)\n",
        "print(str.__add__('akshay','salve'))\n",
        "print(str.__mul__('akshay ',2))"
      ],
      "metadata": {
        "colab": {
          "base_uri": "https://localhost:8080/"
        },
        "id": "kl4fFofQfHiU",
        "outputId": "e7f1e019-5245-4b0f-f016-1f6d3bb7b487"
      },
      "execution_count": 5,
      "outputs": [
        {
          "output_type": "stream",
          "name": "stdout",
          "text": [
            "akshaysalve\n",
            "akshay akshay \n",
            "akshaysalve\n",
            "akshay akshay \n"
          ]
        }
      ]
    },
    {
      "cell_type": "markdown",
      "source": [
        "**8. What is the benefit of first checking the target string with in or not in before using the index method to find a substring?**  \n",
        "ANS - When we first check the target string using in or not in containment operator then we could get to know whether that particular target string is present or not. \n",
        "\n",
        "If it is not present the it will give True as a result else will False. Its better to check before becaue if we are not testinng it first and the substring is not present in the string then it will result in an exception"
      ],
      "metadata": {
        "id": "iqUS9HMnfoMK"
      }
    },
    {
      "cell_type": "markdown",
      "source": [
        "**9. Which operators and built-in string methods produce simple Boolean (true/false) results?**  \n",
        "ANS - There is many operators that can return the Boolean result or True/False. like some are below…\n",
        "\n",
        "isalnum() Returns True if all characters in the string are alphanumeric\n",
        "isalpha() Returns True if all characters in the string are in the alphabet\n",
        "isdecimal() Returns True if all characters in the string are decimals\n",
        "isdigit() Returns True if all characters in the string are digits\n",
        "isidentifier() Returns True if the string is an identifier\n",
        "islower() Returns True if all characters in the string are lower case\n",
        "isnumeric() Returns True if all characters in the string are numeric\n",
        "isprintable() Returns True if all characters in the string are printable\n",
        "isspace() Returns True if all characters in the string are whitespaces\n",
        "istitle() Returns True if the string follows the rules of a title\n",
        "isupper() Returns True if all characters in the string are upper case"
      ],
      "metadata": {
        "id": "tfcdztlgft3C"
      }
    }
  ]
}