{
  "nbformat": 4,
  "nbformat_minor": 0,
  "metadata": {
    "colab": {
      "provenance": []
    },
    "kernelspec": {
      "name": "python3",
      "display_name": "Python 3"
    },
    "language_info": {
      "name": "python"
    }
  },
  "cells": [
    {
      "cell_type": "markdown",
      "source": [
        "**1. What are the new features added in Python 3.8 version ?**  \n",
        "ANS - 1. The walrus operator\n",
        "2. Positional-only arguments\n",
        "3. f-strings now support \"=\"\n",
        "4. reversed() now works with dict\n",
        "5. Simplified iterable unpacking for return and yield\n",
        "6. New syntax warnings\n",
        "7. Performance improvements"
      ],
      "metadata": {
        "id": "Dp5AOJI9NtOa"
      }
    },
    {
      "cell_type": "markdown",
      "source": [
        "**2. What is Monkey Patching in Python ?**  \n",
        "ANS - \n",
        "Monkey patching is a dynamic technique in Python by which you can modify the behavior of an existing class or module."
      ],
      "metadata": {
        "id": "1eS61hgrNysS"
      }
    },
    {
      "cell_type": "markdown",
      "source": [
        "**3. What is the difference between a shallow copy and deep copy ?**  \n",
        "ANS - Shallow Copy stores the copy of the original object and points the references to the objects. Deep copy stores the copy of the original object and recursively copies the objects as well."
      ],
      "metadata": {
        "id": "rysFGY-1N3UC"
      }
    },
    {
      "cell_type": "markdown",
      "source": [
        "**4. What is the maximum possible length of an identifier ?**  \n",
        "ANS - In Python, the highest possible length of an identifier is 79 characters."
      ],
      "metadata": {
        "id": "FEIrdVcGN8Pg"
      }
    },
    {
      "cell_type": "markdown",
      "source": [
        "**5. What is generator comprehension ?**  \n",
        "ANS - A generator comprehension is a single-line specification for defining a generator in Python. just like List Comprehension"
      ],
      "metadata": {
        "id": "y1YFE-VvOA6U"
      }
    }
  ]
}