{
  "nbformat": 4,
  "nbformat_minor": 0,
  "metadata": {
    "colab": {
      "name": "ADVANCED_ASSIGNMENT_NO.3.ipynb",
      "provenance": [],
      "collapsed_sections": []
    },
    "kernelspec": {
      "name": "python3",
      "display_name": "Python 3"
    },
    "language_info": {
      "name": "python"
    }
  },
  "cells": [
    {
      "cell_type": "markdown",
      "source": [
        "**1. What is the concept of an abstract superclass ?**  \n",
        "ANS - An abstract class can be considered as a blueprint for other classes. It allows you to create a set of methods that must be created within any child classes built from the abstract class. A class which contains one or more abstract methods is called an abstract class."
      ],
      "metadata": {
        "id": "dOBHk_XW21G8"
      }
    },
    {
      "cell_type": "markdown",
      "source": [
        "**2. What happens when a class statement's top-level contains a basic assignment statement?**  \n",
        "ANS - That assignment statement will be applicable to all class instances that will be created. And that value will be constant for all newly created classes."
      ],
      "metadata": {
        "id": "YaikPmd03Win"
      }
    },
    {
      "cell_type": "markdown",
      "source": [
        "**3. Why does a class need to manually call a superclass's init method?**  \n",
        "ANS - __init__ is a built in function. It is well known as constructor. It takes the variables, which pass as an argument inside this function, and passes those data to the class."
      ],
      "metadata": {
        "id": "dgdojpsO3q1q"
      }
    },
    {
      "cell_type": "markdown",
      "source": [
        "**4. How can you augment, instead of completely replacing, an inherited method?**  \n",
        "ANS - A subclass can either completely override the implementation for an inherited method or the subclass can enhance the method by adding functionality to it."
      ],
      "metadata": {
        "id": "Cah7QSuv3xHJ"
      }
    },
    {
      "cell_type": "markdown",
      "source": [
        "**5. How is the local scope of a class different from that of a function?**  \n",
        "ANS - class local scope and function local scope is differ from each other.\n",
        "\n",
        "In case of function, local scope means, whatever the variable is declare locally that will be only operate inside the function.  \n",
        "It cannot be use outside the function. The most important thing is it can only be used within one function only under which it is declared.\n",
        "\n",
        "In case of class, local scope means, whatever the variable is declared under the class or inside the class that will be used within a class only either by binding it with object of a class or with class itself.  \n",
        "Unlike the function, local scope of a variable is not restricted with in one function only. IN class it can be used with any number of function which are defined inside the class."
      ],
      "metadata": {
        "id": "NYE3BITF312o"
      }
    }
  ]
}