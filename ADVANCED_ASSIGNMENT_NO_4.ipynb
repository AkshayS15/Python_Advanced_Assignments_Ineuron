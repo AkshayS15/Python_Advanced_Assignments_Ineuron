{
  "nbformat": 4,
  "nbformat_minor": 0,
  "metadata": {
    "colab": {
      "name": "ADVANCED_ASSIGNMENT_NO.4.ipynb",
      "provenance": [],
      "collapsed_sections": []
    },
    "kernelspec": {
      "name": "python3",
      "display_name": "Python 3"
    },
    "language_info": {
      "name": "python"
    }
  },
  "cells": [
    {
      "cell_type": "markdown",
      "source": [
        "**1. Which two operator overloading methods can you use in your classes to support iteration?**  \n",
        "ANS - There are two operator overloading method that can make a class support iteration.  \n",
        "The __ iter __ and __ next __ are used to fort that, the __ iter __ method return iterator object and is implicitly called at the start of loops. And the __ next __ method return the next object or the iter object one by one."
      ],
      "metadata": {
        "id": "p0xRd-JM45XR"
      }
    },
    {
      "cell_type": "markdown",
      "source": [
        "**2. In what contexts do the two operator overloading methods manage printing?**  \n",
        "ANS - The operator overloading works based of python default behavior, like, if our two object is string then it will perform string addition just like in normal python, and if our two object is number then it will perform the math operation between two objects.   \n",
        "So, overall the operator overloading will works based on operands and objects."
      ],
      "metadata": {
        "id": "Gp27fU2T45l_"
      }
    },
    {
      "cell_type": "markdown",
      "source": [
        "**3. In a class, how do you intercept slice operations?**  \n",
        "ANS - In a class use of slice() in __getitem__ method is used for intercept slice operation. This slice method is provided with start integer number, stop integer number and step integer number.\n",
        "\n",
        "**Example**: __ getitem __(slice(start,stop,step))\n"
      ],
      "metadata": {
        "id": "PEjDRWw345wf"
      }
    },
    {
      "cell_type": "markdown",
      "source": [
        "**4. In a class, how do you capture in-place addition?**  \n",
        "ANS - It is possible that we can add something in a function in additional manner. We just need to pass the value inside the function."
      ],
      "metadata": {
        "id": "7snDc5Ld45z3"
      }
    },
    {
      "cell_type": "code",
      "source": [
        "class person:\n",
        "    def __init__(self,name):\n",
        "        self.name=name\n",
        "        \n",
        "    def detail(self,age):\n",
        "        return f'name is {self.name} and age is {age}'\n",
        "object=person('akshay salve')"
      ],
      "metadata": {
        "id": "I9nnirKm8x10"
      },
      "execution_count": 1,
      "outputs": []
    },
    {
      "cell_type": "markdown",
      "source": [
        "**5. When is it appropriate to use operator overloading?**  \n",
        "ANS - Operator overloading is meant to use when we define the datatype of any object before performing oprerator overloading, because it's works like normal python operator, if objects are string and operator are plus + then it will perform string concatenation, and if object are number then it will sum them up, so we have to predefine object datatype, and in that case we should use operator overloading\n"
      ],
      "metadata": {
        "id": "4gRlQNM3454_"
      }
    }
  ]
}