{
  "nbformat": 4,
  "nbformat_minor": 0,
  "metadata": {
    "colab": {
      "name": "ADVANCED_ASSIGNMENT_NO.7.ipynb",
      "provenance": [],
      "collapsed_sections": []
    },
    "kernelspec": {
      "name": "python3",
      "display_name": "Python 3"
    },
    "language_info": {
      "name": "python"
    }
  },
  "cells": [
    {
      "cell_type": "markdown",
      "source": [
        "**1. What is the purpose of the try statement?**  \n",
        "ANS - The main purpose of the try statement is to run our main script in safe mode. Menas if the main script contains some error of some mistake that we or the programmer or the user of that script is responsible for then it will through error as our desired way that we define by following the try clause except\n",
        "\n",
        "Although the main concept is try is basically telling the console to try to run the code if it executes successfully then exit and if not the process as we define."
      ],
      "metadata": {
        "id": "_vofVz7jJJQ9"
      }
    },
    {
      "cell_type": "markdown",
      "source": [
        "**2. What are the two most popular try statement variations?**  \n",
        "ANS - \n",
        "- try with except block: When try fails except will execute. When try passess, except do not execute\n",
        "\n",
        "- try with except and else: When try will execute then only else block will exceute. If try fails then only except block will exceute not else block"
      ],
      "metadata": {
        "id": "Ccv1wH63JahP"
      }
    },
    {
      "cell_type": "markdown",
      "source": [
        "**3. What is the purpose of raise statement?**  \n",
        "ANS - With the raise statement we can trigger our own defined error at any point of the time and we can raise an error in any were in our script as long as it is reasonable.\n",
        "\n",
        "So if we want to trigger an error at a specific moment of time we can use raise statement for that purpose."
      ],
      "metadata": {
        "id": "ru-GxZJGKBYM"
      }
    },
    {
      "cell_type": "markdown",
      "source": [
        "**4. What does the assert statement do, and what other statement is it like?**  \n",
        "ANS - There are few assertions that programmer always want to be true to avoid code failure. This type of requirement is fulfilled by assert statement. This statement takes a boolean condition output of which is True, Further Program Executes. if output of assert statement is False, it raises an Assertion Error."
      ],
      "metadata": {
        "id": "t3d83aA8KQ8e"
      }
    },
    {
      "cell_type": "code",
      "source": [
        "assert(2 == 4), f'this is not a valid statement'"
      ],
      "metadata": {
        "colab": {
          "base_uri": "https://localhost:8080/",
          "height": 165
        },
        "id": "m0LkcXwSKe2x",
        "outputId": "f7886b9e-8459-49e8-9e74-3775ac26ef58"
      },
      "execution_count": 6,
      "outputs": [
        {
          "output_type": "error",
          "ename": "AssertionError",
          "evalue": "ignored",
          "traceback": [
            "\u001b[0;31m---------------------------------------------------------------------------\u001b[0m",
            "\u001b[0;31mAssertionError\u001b[0m                            Traceback (most recent call last)",
            "\u001b[0;32m<ipython-input-6-b7228a17c25c>\u001b[0m in \u001b[0;36m<module>\u001b[0;34m()\u001b[0m\n\u001b[0;32m----> 1\u001b[0;31m \u001b[0;32massert\u001b[0m\u001b[0;34m(\u001b[0m\u001b[0;36m2\u001b[0m \u001b[0;34m==\u001b[0m \u001b[0;36m4\u001b[0m\u001b[0;34m)\u001b[0m\u001b[0;34m,\u001b[0m \u001b[0;34mf'this is not a valid statement'\u001b[0m\u001b[0;34m\u001b[0m\u001b[0;34m\u001b[0m\u001b[0m\n\u001b[0m",
            "\u001b[0;31mAssertionError\u001b[0m: this is not a valid statement"
          ]
        }
      ]
    },
    {
      "cell_type": "markdown",
      "source": [
        "**5. What is the purpose of the with/as argument, and what other statement is it like?**  \n",
        "ANS - with / as arguments are used in python to make the code more readable and cleaner.\n",
        "\n",
        "The with statement is handle the exception the with statement ensure the acquisition and release of resources by itself automatically. The with statement avoiding bugs and leaks and ensure that resources are properly released at the time of code executions.\n",
        "\n",
        "The as is just to use an instance name or variable name for the resource we are executing."
      ],
      "metadata": {
        "id": "HNZ62pUyKkI5"
      }
    }
  ]
}