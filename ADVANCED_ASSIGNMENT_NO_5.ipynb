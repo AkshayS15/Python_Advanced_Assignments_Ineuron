{
  "nbformat": 4,
  "nbformat_minor": 0,
  "metadata": {
    "colab": {
      "name": "ADVANCED_ASSIGNMENT_NO.5.ipynb",
      "provenance": [],
      "collapsed_sections": []
    },
    "kernelspec": {
      "name": "python3",
      "display_name": "Python 3"
    },
    "language_info": {
      "name": "python"
    }
  },
  "cells": [
    {
      "cell_type": "markdown",
      "source": [
        "**1. What is the meaning of multiple inheritances?**  \n",
        "ANS - Inheritence means one class is deriving data from the single parent class but in case of multiple inheritance, a subclass is derived from more than one parent classes. \n",
        "\n",
        "Suppose A and B are the classes and class C is deriving data from A and B. We can say this is multiple inheritence"
      ],
      "metadata": {
        "id": "_XMULuw39rDm"
      }
    },
    {
      "cell_type": "markdown",
      "source": [
        "**2. What is the concept of delegation?**  \n",
        "ANS - Lets say a is a object of parent class A and b is a object of child class B. \n",
        "Then b can use all the variables and methods of parent class A to perform the operations. This is known as delegation."
      ],
      "metadata": {
        "id": "QYg5Y43c9rbP"
      }
    },
    {
      "cell_type": "markdown",
      "source": [
        "**3. What is the concept of Composition?**  \n",
        "ANS - Suppose there are multiple classes say, class A, class B and class C and their respective objects are a,b and c. \n",
        "So when we are going to call the final class C and we wanted to utilise the items of the other previous classes A and B then we use their objects a and b when we create the final class object c by passing a and b into that."
      ],
      "metadata": {
        "id": "uRI6QqKs9rfc"
      }
    },
    {
      "cell_type": "code",
      "source": [
        "class A:\n",
        "    def __init__(self):\n",
        "        pass\n",
        "a=A()\n",
        "\n",
        "class B:\n",
        "    def __init__(self):\n",
        "        pass\n",
        "b=B()\n",
        "\n",
        "class C:\n",
        "    def __init__(selfo,bject_a,object_b):\n",
        "        pass\n",
        "c=C(a,b)"
      ],
      "metadata": {
        "id": "422ZGm5bCUoA"
      },
      "execution_count": 2,
      "outputs": []
    },
    {
      "cell_type": "markdown",
      "source": [
        "**4.What are bound methods and how do we use them ?**  \n",
        "ANS - Function whcich is defined inside the class and take the instance of a class as its first argument is known as bound function. This is because it bounded by the class. It can only perfrom the operation by using the class object."
      ],
      "metadata": {
        "id": "QHFknx8r9rkF"
      }
    },
    {
      "cell_type": "code",
      "source": [
        "class A:\n",
        "    def __init__(self):\n",
        "        pass\n",
        "\n",
        "    def func(self):\n",
        "        return 'hello world'\n",
        "    \n",
        "obj = A()\n",
        "\n",
        "obj.func"
      ],
      "metadata": {
        "colab": {
          "base_uri": "https://localhost:8080/"
        },
        "id": "FcV3YZktD2Zw",
        "outputId": "34cd4e1e-a0e2-44ff-a2b4-912f8293e1ff"
      },
      "execution_count": 3,
      "outputs": [
        {
          "output_type": "execute_result",
          "data": {
            "text/plain": [
              "<bound method A.func of <__main__.A object at 0x7f4c421360d0>>"
            ]
          },
          "metadata": {},
          "execution_count": 3
        }
      ]
    },
    {
      "cell_type": "markdown",
      "source": [
        "**5. What is the purpose of pseudoprivate attributes?**  \n",
        "ANS - The pseudoprivate attribute is also called private attribute, these are attribute which is private and user cannot access them, it has some special way to call them.\n",
        "\n",
        "This is required for when we are trying to create a large and complex application. Although it can be useful there if we need some attribute for calculation and we don’t user to access them.\n",
        "\n",
        "For crating private attribute we need to put double underscore after ‘self.’, and this way we can define private attribute. Private attribute cannot be called directly as we called other normal attributes"
      ],
      "metadata": {
        "id": "d3lWan9K9rok"
      }
    }
  ]
}