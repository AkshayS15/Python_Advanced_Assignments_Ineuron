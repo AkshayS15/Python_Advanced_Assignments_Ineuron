{
  "nbformat": 4,
  "nbformat_minor": 0,
  "metadata": {
    "colab": {
      "name": "ADVANCED_ASSIGNMENT_NO.8.ipynb",
      "provenance": [],
      "collapsed_sections": []
    },
    "kernelspec": {
      "name": "python3",
      "display_name": "Python 3"
    },
    "language_info": {
      "name": "python"
    }
  },
  "cells": [
    {
      "cell_type": "markdown",
      "source": [
        "**Q1. What are the two latest user-defined exception constraints in Python 3.X?**  \n",
        "ANS - 1) raise statement: With the help of raise keyword we can create a user defined exceptions\n",
        "\n",
        "2) assert statement: With the help of the assert keyword we can create an assertion error."
      ],
      "metadata": {
        "id": "NNTMf5tOL8Lz"
      }
    },
    {
      "cell_type": "markdown",
      "source": [
        "**Q2. How are class-based exceptions that have been raised matched to handlers?**  \n",
        "ANS - In python, Users can define custom exceptions by creating a new class. This exception class has to be derived, either directly or indirectly from built-in **Exception** class. This new exception class like other exceptions can be raised using the **raise** statement with an optional error message."
      ],
      "metadata": {
        "id": "oCIVmPAPMNhZ"
      }
    },
    {
      "cell_type": "code",
      "source": [
        "class ToYoungException(Exception):\n",
        "    def __init__(self,msg):\n",
        "        self.msg = msg\n",
        "age = 12\n",
        "if age <= 18: raise ToYoungException('To Young For Voting')"
      ],
      "metadata": {
        "colab": {
          "base_uri": "https://localhost:8080/",
          "height": 200
        },
        "id": "IMFOxekIMfUn",
        "outputId": "f1949e92-6ec7-4001-af9f-0a2e94d0ce11"
      },
      "execution_count": 7,
      "outputs": [
        {
          "output_type": "error",
          "ename": "ToYoungException",
          "evalue": "ignored",
          "traceback": [
            "\u001b[0;31m---------------------------------------------------------------------------\u001b[0m",
            "\u001b[0;31mToYoungException\u001b[0m                          Traceback (most recent call last)",
            "\u001b[0;32m<ipython-input-7-b97f009151c8>\u001b[0m in \u001b[0;36m<module>\u001b[0;34m()\u001b[0m\n\u001b[1;32m      3\u001b[0m         \u001b[0mself\u001b[0m\u001b[0;34m.\u001b[0m\u001b[0mmsg\u001b[0m \u001b[0;34m=\u001b[0m \u001b[0mmsg\u001b[0m\u001b[0;34m\u001b[0m\u001b[0;34m\u001b[0m\u001b[0m\n\u001b[1;32m      4\u001b[0m \u001b[0mage\u001b[0m \u001b[0;34m=\u001b[0m \u001b[0;36m12\u001b[0m\u001b[0;34m\u001b[0m\u001b[0;34m\u001b[0m\u001b[0m\n\u001b[0;32m----> 5\u001b[0;31m \u001b[0;32mif\u001b[0m \u001b[0mage\u001b[0m \u001b[0;34m<=\u001b[0m \u001b[0;36m18\u001b[0m\u001b[0;34m:\u001b[0m \u001b[0;32mraise\u001b[0m \u001b[0mToYoungException\u001b[0m\u001b[0;34m(\u001b[0m\u001b[0;34m'To Young For Voting'\u001b[0m\u001b[0;34m)\u001b[0m\u001b[0;34m\u001b[0m\u001b[0;34m\u001b[0m\u001b[0m\n\u001b[0m",
            "\u001b[0;31mToYoungException\u001b[0m: To Young For Voting"
          ]
        }
      ]
    },
    {
      "cell_type": "markdown",
      "source": [
        "**Q3. Describe two methods for attaching context information to exception artefacts ?**  \n",
        "ANS - The **process()** method of LoggerAdapter is where the contextual information is added to the logging output. its passes the message and keyword arguments of the logging call, and it passes back modified versions of these to use in the call to the underlying logger.\n",
        "\n",
        "Other method that can be used is **exception()**, Logs a messgae with level ERROR on this logger. The arguments are interpreted as for **debug()**. Exception info is added to the logging message."
      ],
      "metadata": {
        "id": "1euAhMhtMkjq"
      }
    },
    {
      "cell_type": "markdown",
      "source": [
        "**Q4. Describe two methods for specifying the text of an exception object's error message ?**  \n",
        "ANS - **raise** and **assert** are two methods for specifying the text of an exception object's error message.raise statement is used to trigger explicit exception, if certain condition is not as per requirement of programmer. it helps in triggering exception as per need of programmer and logic.\n",
        "\n",
        "There are few assertions that programmer always want to be True to avoid code failure. This type of requirment is fullfilled by **assert** statement. This statement takes a Boolean Condition output of which if True, further program executes. if output of assert statement is False it raises an **Assertion** **Error**."
      ],
      "metadata": {
        "id": "8I8gUlxwMz8A"
      }
    },
    {
      "cell_type": "markdown",
      "source": [
        "**Q5. Why do you no longer use string-based exceptions?**  \n",
        "ANS - String-based Exceptions doesn't inherit from Exceptions. so plain exceptions catch all exceptions and not only system."
      ],
      "metadata": {
        "id": "qpEHEzPpOvGf"
      }
    }
  ]
}