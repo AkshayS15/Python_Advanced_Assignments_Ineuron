{
  "nbformat": 4,
  "nbformat_minor": 0,
  "metadata": {
    "colab": {
      "provenance": []
    },
    "kernelspec": {
      "name": "python3",
      "display_name": "Python 3"
    },
    "language_info": {
      "name": "python"
    }
  },
  "cells": [
    {
      "cell_type": "markdown",
      "source": [
        "**Q1. Is an assignment operator like += only for show? Is it possible that it would lead to faster results at the runtime?**  \n",
        "ANS - += adds a number/string to a variable, changing the variable itself in the process. Meaning, ( += ) adds the value of the right operand to a variable and assigns the result to the variable.\n",
        "\n",
        "Not really it result in faster performance because it take lesser time to operate and we dont require a new"
      ],
      "metadata": {
        "id": "j8JBm4wNhmUT"
      }
    },
    {
      "cell_type": "markdown",
      "source": [
        "**Q2. What is the smallest number of statements you'd have to write in most programming languages to replace the Python expression a, b = a + b, a?**  \n",
        "ANS - In C programming it takes minimum 3 number of statement.\n",
        "\n",
        "c=a+b\n",
        "\n",
        "a=c\n",
        "\n",
        "b=a"
      ],
      "metadata": {
        "id": "mYYN7tWghtdS"
      }
    },
    {
      "cell_type": "markdown",
      "source": [
        "**Q3. In Python, what is the most effective way to set a list of 100 integers to 0?**  \n",
        "ANS - "
      ],
      "metadata": {
        "id": "TE1lta8uhynw"
      }
    },
    {
      "cell_type": "code",
      "execution_count": 2,
      "metadata": {
        "colab": {
          "base_uri": "https://localhost:8080/"
        },
        "id": "UHibHN9IhhNd",
        "outputId": "96b2ae29-57c7-4757-ada1-d3771279e865"
      },
      "outputs": [
        {
          "output_type": "execute_result",
          "data": {
            "text/plain": [
              "[0,\n",
              " 0,\n",
              " 0,\n",
              " 0,\n",
              " 0,\n",
              " 0,\n",
              " 0,\n",
              " 0,\n",
              " 0,\n",
              " 0,\n",
              " 0,\n",
              " 0,\n",
              " 0,\n",
              " 0,\n",
              " 0,\n",
              " 0,\n",
              " 0,\n",
              " 0,\n",
              " 0,\n",
              " 0,\n",
              " 0,\n",
              " 0,\n",
              " 0,\n",
              " 0,\n",
              " 0,\n",
              " 0,\n",
              " 0,\n",
              " 0,\n",
              " 0,\n",
              " 0,\n",
              " 0,\n",
              " 0,\n",
              " 0,\n",
              " 0,\n",
              " 0,\n",
              " 0,\n",
              " 0,\n",
              " 0,\n",
              " 0,\n",
              " 0,\n",
              " 0,\n",
              " 0,\n",
              " 0,\n",
              " 0,\n",
              " 0,\n",
              " 0,\n",
              " 0,\n",
              " 0,\n",
              " 0,\n",
              " 0,\n",
              " 0,\n",
              " 0,\n",
              " 0,\n",
              " 0,\n",
              " 0,\n",
              " 0,\n",
              " 0,\n",
              " 0,\n",
              " 0,\n",
              " 0,\n",
              " 0,\n",
              " 0,\n",
              " 0,\n",
              " 0,\n",
              " 0,\n",
              " 0,\n",
              " 0,\n",
              " 0,\n",
              " 0,\n",
              " 0,\n",
              " 0,\n",
              " 0,\n",
              " 0,\n",
              " 0,\n",
              " 0,\n",
              " 0,\n",
              " 0,\n",
              " 0,\n",
              " 0,\n",
              " 0,\n",
              " 0,\n",
              " 0,\n",
              " 0,\n",
              " 0,\n",
              " 0,\n",
              " 0,\n",
              " 0,\n",
              " 0,\n",
              " 0,\n",
              " 0,\n",
              " 0,\n",
              " 0,\n",
              " 0,\n",
              " 0,\n",
              " 0,\n",
              " 0,\n",
              " 0,\n",
              " 0,\n",
              " 0,\n",
              " 0]"
            ]
          },
          "metadata": {},
          "execution_count": 2
        }
      ],
      "source": [
        "my_list = [0] * 100\n",
        "\n",
        "my_list = [0] * 100  \n",
        "my_list"
      ]
    },
    {
      "cell_type": "markdown",
      "source": [
        "**Q4. What is the most effective way to initialize a list of 99 integers that repeats the sequence 1, 2, 3? S If necessary, show step-by-step instructions on how to accomplish this.**  \n",
        "ANS - "
      ],
      "metadata": {
        "id": "aMUjt6P7h9yX"
      }
    },
    {
      "cell_type": "code",
      "source": [
        "l=[i for i in range(1,4)]\n",
        "l2=[]\n",
        "for i in range(33):\n",
        "    \n",
        "    l2.extend(l)\n",
        "    \n",
        "print(l2,'\\n')\n",
        "print(f'Number of integers ares: {len(l2)}')"
      ],
      "metadata": {
        "colab": {
          "base_uri": "https://localhost:8080/"
        },
        "id": "zBQoPr_fh5KB",
        "outputId": "9706dc5c-6740-4c18-9d08-8d2a767f875d"
      },
      "execution_count": 3,
      "outputs": [
        {
          "output_type": "stream",
          "name": "stdout",
          "text": [
            "[1, 2, 3, 1, 2, 3, 1, 2, 3, 1, 2, 3, 1, 2, 3, 1, 2, 3, 1, 2, 3, 1, 2, 3, 1, 2, 3, 1, 2, 3, 1, 2, 3, 1, 2, 3, 1, 2, 3, 1, 2, 3, 1, 2, 3, 1, 2, 3, 1, 2, 3, 1, 2, 3, 1, 2, 3, 1, 2, 3, 1, 2, 3, 1, 2, 3, 1, 2, 3, 1, 2, 3, 1, 2, 3, 1, 2, 3, 1, 2, 3, 1, 2, 3, 1, 2, 3, 1, 2, 3, 1, 2, 3, 1, 2, 3, 1, 2, 3] \n",
            "\n",
            "Number of integers ares: 99\n"
          ]
        }
      ]
    },
    {
      "cell_type": "markdown",
      "source": [
        "**Q5. If you’re running a Python program from within IDLE, describe how to most efficiently print a multidimensional list.**  \n",
        "ANS - "
      ],
      "metadata": {
        "id": "XsBwUmhNi4zY"
      }
    },
    {
      "cell_type": "code",
      "source": [
        "#It is very simple procedure. We first need a variable and assign it a multidimensional list.\n",
        "\n",
        "a = [[2, 4, 6, 8, 10], [3, 6, 9, 12, 15], [4, 8, 12, 16, 20]]\n",
        "print(a)"
      ],
      "metadata": {
        "colab": {
          "base_uri": "https://localhost:8080/"
        },
        "id": "hqq1tKeti0wF",
        "outputId": "e94672cc-5957-427e-e667-b612440e9acf"
      },
      "execution_count": 4,
      "outputs": [
        {
          "output_type": "stream",
          "name": "stdout",
          "text": [
            "[[2, 4, 6, 8, 10], [3, 6, 9, 12, 15], [4, 8, 12, 16, 20]]\n"
          ]
        }
      ]
    },
    {
      "cell_type": "markdown",
      "source": [
        "**Q6. Is it possible to use list comprehension with a string? If so, how can you go about doing it?**  \n",
        "ANS - "
      ],
      "metadata": {
        "id": "jwWVDGLYi97m"
      }
    },
    {
      "cell_type": "code",
      "source": [
        "#Yes it is possible to use list comprehension with a string.\n",
        "my_string = 'Ineuron'\n",
        "my_list = [i for i in my_string]\n",
        "my_list  #getting element from the string."
      ],
      "metadata": {
        "colab": {
          "base_uri": "https://localhost:8080/"
        },
        "id": "fCV55I2qi8--",
        "outputId": "9328c172-72e7-4909-ae3a-675f1f4bf915"
      },
      "execution_count": 5,
      "outputs": [
        {
          "output_type": "execute_result",
          "data": {
            "text/plain": [
              "['I', 'n', 'e', 'u', 'r', 'o', 'n']"
            ]
          },
          "metadata": {},
          "execution_count": 5
        }
      ]
    },
    {
      "cell_type": "markdown",
      "source": [
        "**Q7. How can you get help on a user-written Python program from the command line? From within IDLE?**  \n",
        "ANS - "
      ],
      "metadata": {
        "id": "y7LwiT7wjEl3"
      }
    },
    {
      "cell_type": "code",
      "source": [
        "#We will use help method in that case. Example is as followed\n",
        "\n",
        "help(print)"
      ],
      "metadata": {
        "colab": {
          "base_uri": "https://localhost:8080/"
        },
        "id": "EwvfF0c8jCTK",
        "outputId": "dc467371-c84d-42a3-b394-b3c0cb143fff"
      },
      "execution_count": 6,
      "outputs": [
        {
          "output_type": "stream",
          "name": "stdout",
          "text": [
            "Help on built-in function print in module builtins:\n",
            "\n",
            "print(...)\n",
            "    print(value, ..., sep=' ', end='\\n', file=sys.stdout, flush=False)\n",
            "    \n",
            "    Prints the values to a stream, or to sys.stdout by default.\n",
            "    Optional keyword arguments:\n",
            "    file:  a file-like object (stream); defaults to the current sys.stdout.\n",
            "    sep:   string inserted between values, default a space.\n",
            "    end:   string appended after the last value, default a newline.\n",
            "    flush: whether to forcibly flush the stream.\n",
            "\n"
          ]
        }
      ]
    },
    {
      "cell_type": "markdown",
      "source": [
        "**Q8. Functions are said to be “first-class objects” in Python but not in most other languages, such as C++ or Java. What is something you can do with a Python function (callable object) that you cannot do in C or C++?**  \n",
        "ANS - In python there is a beautiful things which we can do with the function. It is called first class function because of the following reasons:\n",
        "\n",
        "1) It can be use as an argument\n",
        "\n",
        "2) It can be use in return by some other function\n",
        "\n",
        "3) It can be act as variable and we can assign some value to it"
      ],
      "metadata": {
        "id": "GMeIjuq0jLN9"
      }
    },
    {
      "cell_type": "markdown",
      "source": [
        "**Q9. What’s the difference between a wrapper, a wrapped function, and a decorator?**  \n",
        "ANS - Wrappers: It also refers to decorators. It allows programmers to modify the behavior of function or class.\n",
        "\n",
        "Wrapper Function: Wrapper functions can be used as an interface to adapt to the existing codes, so as to save from modifying the codes back and forth. It helps in allowing some codes to run repeadtedly.\n",
        "\n",
        "Decorators: It allows to wrap another function in order to extend the behavior of the wrapped function, without permanently modifying it."
      ],
      "metadata": {
        "id": "XhFHBQs-jSQy"
      }
    },
    {
      "cell_type": "markdown",
      "source": [
        "**Q10. When a function is a generator function, what does it return, if anything?**  \n",
        "ANS - Generator function is a kind of a iterable function which knows that what i have generated the last time and what it will give me the next time. Using return or print statement we can simply get every element which we have iterated upon immediately at once. But what if we want that we get the elemenet one by one as per our requrement. Here generator comes.\n",
        "\n",
        "We can also say that Generator is something which help in creating iterator sort of thing. We use yield keyword in place of return when we are dealing with generators. With the help of generator only it is not necessary to create an itertor from an iterables. We can make any thing an itertaor object.\n",
        "\n",
        "It do not stores all the items at once. Whatever the value we need, it catches and throw it out. Means whenever we need a next value to print we just call a next function over its object and it will give that value."
      ],
      "metadata": {
        "id": "cv0skV-ZjZ0F"
      }
    },
    {
      "cell_type": "markdown",
      "source": [
        "**Q11. What is the one improvement that must be made to a function in order for it to become a generator function in the Python language?**  \n",
        "ANS - "
      ],
      "metadata": {
        "id": "9wU2ZXtzjgJd"
      }
    },
    {
      "cell_type": "code",
      "source": [
        "#Just replace return with yield\n",
        "\n",
        "def gen():\n",
        "    for i in range(10):\n",
        "        yield i\n",
        "a=iter(gen())\n",
        "a"
      ],
      "metadata": {
        "colab": {
          "base_uri": "https://localhost:8080/"
        },
        "id": "k4K41--mjIW_",
        "outputId": "5b07c542-b712-4d80-d47f-1bc482828994"
      },
      "execution_count": 7,
      "outputs": [
        {
          "output_type": "execute_result",
          "data": {
            "text/plain": [
              "<generator object gen at 0x7f13798d22d0>"
            ]
          },
          "metadata": {},
          "execution_count": 7
        }
      ]
    },
    {
      "cell_type": "code",
      "source": [
        "next(a)"
      ],
      "metadata": {
        "colab": {
          "base_uri": "https://localhost:8080/"
        },
        "id": "EJMnAapnjkWq",
        "outputId": "21f7240f-f6bf-49af-8345-0c5bdf787a9e"
      },
      "execution_count": 8,
      "outputs": [
        {
          "output_type": "execute_result",
          "data": {
            "text/plain": [
              "0"
            ]
          },
          "metadata": {},
          "execution_count": 8
        }
      ]
    },
    {
      "cell_type": "code",
      "source": [
        "next(a)\n"
      ],
      "metadata": {
        "colab": {
          "base_uri": "https://localhost:8080/"
        },
        "id": "fzECjG6djl3M",
        "outputId": "3db32d70-2f6b-40fb-ae82-55d9415d3c07"
      },
      "execution_count": 9,
      "outputs": [
        {
          "output_type": "execute_result",
          "data": {
            "text/plain": [
              "1"
            ]
          },
          "metadata": {},
          "execution_count": 9
        }
      ]
    },
    {
      "cell_type": "code",
      "source": [
        "for i in a:\n",
        "    print(i)"
      ],
      "metadata": {
        "colab": {
          "base_uri": "https://localhost:8080/"
        },
        "id": "mz7LxHvHjnaU",
        "outputId": "c7c9062a-bca8-490d-f11a-85f69698a953"
      },
      "execution_count": 10,
      "outputs": [
        {
          "output_type": "stream",
          "name": "stdout",
          "text": [
            "2\n",
            "3\n",
            "4\n",
            "5\n",
            "6\n",
            "7\n",
            "8\n",
            "9\n"
          ]
        }
      ]
    },
    {
      "cell_type": "markdown",
      "source": [
        "**Q12. Identify at least one benefit of generators.**  \n",
        "ANS - By using generators it can be memory efficient that it does not create any value at the time of the execution instead of doing that it yield value and we can get those value as we get value from any iterable object."
      ],
      "metadata": {
        "id": "45YfSZUXjrI8"
      }
    }
  ]
}