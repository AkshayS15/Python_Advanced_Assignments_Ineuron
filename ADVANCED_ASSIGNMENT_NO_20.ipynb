{
  "nbformat": 4,
  "nbformat_minor": 0,
  "metadata": {
    "colab": {
      "name": "ADVANCED ASSIGNMENT NO.20.ipynb",
      "provenance": [],
      "collapsed_sections": []
    },
    "kernelspec": {
      "name": "python3",
      "display_name": "Python 3"
    },
    "language_info": {
      "name": "python"
    }
  },
  "cells": [
    {
      "cell_type": "markdown",
      "source": [
        "**1. Compare and contrast the float and Decimal classes' benefits and drawbacks ?**  \n",
        "ANS - Both the **float** and **decimal** types store numerical values in Python.\n",
        "\n",
        "Use **floats** when convenience and speed matter. A float gives you an approximation of the number you declare.\n",
        "\n",
        "Use **decimals** when precision matters. **Decimals** can suffer from their own precision issues, but generally, **decimals** are more precise than **floats**. The performance difference between **float** and **decimal**, with Python 3, is not outlandish, and in my experience, the precision benefits of a decimal outweigh the performance benefits of a **float**."
      ],
      "metadata": {
        "id": "vgv5erOqyOIc"
      }
    },
    {
      "cell_type": "markdown",
      "source": [
        "**2. Decimal('1.200') and Decimal('1.2') are two objects to consider. In what sense are these the same object? Are these just two ways of representing the exact same value, or do they correspond to different internal states ?**  \n",
        "ANS - Both values are same but internal representation at storage Is different. Precsion differs, **Decimal('1.200'**) gives internally **1.200** and **Decimal('1.2')** gives **1.2**"
      ],
      "metadata": {
        "id": "ThY7FPUhyOK6"
      }
    },
    {
      "cell_type": "markdown",
      "source": [
        "**3. What happens if the equality of Decimal('1.200') and Decimal('1.2') is checked ?**  \n",
        "ANS -  Both values are checked to be equal , they only differ in precision."
      ],
      "metadata": {
        "id": "kTudf7WUyONp"
      }
    },
    {
      "cell_type": "markdown",
      "source": [
        "**4. Why is it preferable to start a Decimal object with a string rather than a floating-point value ?**  \n",
        "ANS - Floating-point value is converted to Decimal format. Decimal can store float value with absolute precision. But when float value is given as Decimal object,it first has to be converted from floating point value which might already have rounding error.\n",
        "\n",
        "Hence it is preferable to start a Decimal object with a string."
      ],
      "metadata": {
        "id": "fP2_0WhNyOQP"
      }
    },
    {
      "cell_type": "markdown",
      "source": [
        "**5. In an arithmetic phrase, how simple is it to combine Decimal objects with integers ?**  \n",
        "ANS - We can do it with use of **Decimal()**."
      ],
      "metadata": {
        "id": "Fxc5moLmyOS4"
      }
    },
    {
      "cell_type": "markdown",
      "source": [
        "**6. Can Decimal objects and floating-point values be combined easily ?**  \n",
        "ANS - Arithmetic operfations like Adding,subtracting or multiplying a Decimal object by a floating-point value is generates an error.\n",
        "\n",
        "To do these operations, the floating point has to be converted to a Decimal."
      ],
      "metadata": {
        "id": "kDkSWAxKyOVa"
      }
    },
    {
      "cell_type": "markdown",
      "source": [
        "**7. Using the Fraction class but not the Decimal class, give an example of a quantity that can be expressed with absolute precision ?**  \n",
        "ANS - Value of 0.5 will be represented as ½."
      ],
      "metadata": {
        "id": "AUY3HJrsyOYD"
      }
    },
    {
      "cell_type": "markdown",
      "source": [
        "**8.Consider the following two fraction objects: Fraction(1, 2) and Fraction(1, 2). (5, 10). Is the internal state of these two objects the same? Why do you think that is ?**  \n",
        "ANS - Both will be reduced to **1/2**"
      ],
      "metadata": {
        "id": "foVnyKhvyOas"
      }
    },
    {
      "cell_type": "markdown",
      "source": [
        "**9. How do the Fraction class and the integer type (int) relate to each other? Containment or inheritance ?**  \n",
        "ANS - Fraction class and integer type(int) are related in form of a container.It contains two ints, one the numerator and the other the denominator"
      ],
      "metadata": {
        "id": "fP4c2Kk9yOd4"
      }
    }
  ]
}