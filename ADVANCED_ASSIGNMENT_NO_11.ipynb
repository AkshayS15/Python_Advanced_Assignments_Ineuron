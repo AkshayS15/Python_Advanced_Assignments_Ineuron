{
  "nbformat": 4,
  "nbformat_minor": 0,
  "metadata": {
    "colab": {
      "name": "ADVANCED_ASSIGNMENT_NO.11.ipynb",
      "provenance": [],
      "collapsed_sections": []
    },
    "kernelspec": {
      "name": "python3",
      "display_name": "Python 3"
    },
    "language_info": {
      "name": "python"
    }
  },
  "cells": [
    {
      "cell_type": "markdown",
      "source": [
        "**Q1. What is the concept of a metaclass?**  \n",
        "ANS - Metaclass in Python is a class of a class that defines how a class behaves. A class is itself a instance of Metaclass, and any Instance of Class in Python is an Instance of type metaclass. E.g. Type of of **int**, **str**, **float**, **list**, **tuple** and many more is of metaclass type"
      ],
      "metadata": {
        "id": "ZpAjU_htRkaT"
      }
    },
    {
      "cell_type": "markdown",
      "source": [
        "**Q2. What is the best way to declare a class's metaclass?**  \n",
        "ANS - A way to declare a class’ **metaclass** is by using metaclass keyword in class definition"
      ],
      "metadata": {
        "id": "fg_T1EC6R5DQ"
      }
    },
    {
      "cell_type": "code",
      "source": [
        "class meta(type):\n",
        "    pass\n",
        "class class_meta(metaclass=meta):\n",
        "    pass\n",
        "print(type(meta))\n",
        "print(type(class_meta))"
      ],
      "metadata": {
        "colab": {
          "base_uri": "https://localhost:8080/"
        },
        "id": "Ukc8jlF0SDwl",
        "outputId": "7208a1c6-ceab-45fa-b8bb-4f6d02aa6785"
      },
      "execution_count": 8,
      "outputs": [
        {
          "output_type": "stream",
          "name": "stdout",
          "text": [
            "<class 'type'>\n",
            "<class '__main__.meta'>\n"
          ]
        }
      ]
    },
    {
      "cell_type": "markdown",
      "source": [
        "**Q3. How do class decorators overlap with metaclasses for handling classes ?**  \n",
        "ANS - Anything you can do with a class decorator, you can of course do with a custom metaclasses (just apply the functionality of the \"decorator function\", i.e., the one that takes a class object and modifies it, in the course of the metaclass's __ new __ or __ init __ that make the class object!)"
      ],
      "metadata": {
        "id": "fU79OkPKSG8C"
      }
    },
    {
      "cell_type": "markdown",
      "source": [
        "**4. How do class decorators overlap with metaclasses for handling instances?**  \n",
        "ANS - Anything you can do with a class decorator, you can of course do with a custom metaclass (just apply the functionality of the \"decorator function\", i.e., the one that takes a class object and modifies it, in the course of the metaclass's __ new __ or __ init __ that make the class object!)"
      ],
      "metadata": {
        "id": "aEAko9nRSgT8"
      }
    }
  ]
}