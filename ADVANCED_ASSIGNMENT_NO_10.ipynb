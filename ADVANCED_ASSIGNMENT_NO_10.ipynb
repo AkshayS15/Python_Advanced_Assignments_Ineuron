{
  "nbformat": 4,
  "nbformat_minor": 0,
  "metadata": {
    "colab": {
      "name": "ADVANCED_ASSIGNMENT_NO.10.ipynb",
      "provenance": [],
      "collapsed_sections": []
    },
    "kernelspec": {
      "name": "python3",
      "display_name": "Python 3"
    },
    "language_info": {
      "name": "python"
    }
  },
  "cells": [
    {
      "cell_type": "markdown",
      "source": [
        "**1. What is the difference between getattr and getattribute?**  \n",
        "ANS - __ getattr __ method is called when the calling attribute is present in our class and we are sure about it. If the calling attribute is not present in our class then it will through an AttributeError\n",
        "\n",
        "And in Another side, if our function has __ getattribute __ then the condition is written inside this method will be put an effect on every other attribute no matter the method is present or not."
      ],
      "metadata": {
        "id": "SDR4-bwZPlWO"
      }
    },
    {
      "cell_type": "markdown",
      "source": [
        "**2. What is the difference between properties and descriptors?**  \n",
        "ANS -  The properties are much simpler to use and understand. Simply says it can convert the method as an attribute. Like we have a method in our class and if we add @property as a decorator of that function then we can use that function or method as an attribute means we no longer need to use () like calling a function.\n",
        "\n",
        "Descriptors give us a special ability to create objects that have special behavior when they’re accessed as attributes of other objects."
      ],
      "metadata": {
        "id": "3Bv--HHiQLaL"
      }
    },
    {
      "cell_type": "markdown",
      "source": [
        "**3. What are the key differences in functionality between getattr and getattribute, as well as properties and descriptors?** \n",
        "ANS - Descriptors are a low-level mechanism that lets you hook into an object's attributes being accessed. Properties are a high-level application of this; that is, properties are implemented using descriptors.\n",
        "\n",
        "The property function gives us a handy way to implement a simple descriptor without defining a separate class. Rather than create a complete class definition, we can write getter and setter method functions, and then bind these functions to an attribute name.\n",
        "\n",
        "\n"
      ],
      "metadata": {
        "id": "98l4OxdLQQav"
      }
    }
  ]
}